{
 "cells": [
  {
   "cell_type": "code",
   "id": "initial_id",
   "metadata": {
    "collapsed": true,
    "ExecuteTime": {
     "end_time": "2024-07-11T22:20:16.942869Z",
     "start_time": "2024-07-11T22:20:15.037820Z"
    }
   },
   "source": [
    "import pandas as  pd\n",
    "import numpy as np  \n",
    "from collections import Counter\n",
    "import matplotlib.pyplot as plt\n",
    "import re\n"
   ],
   "outputs": [],
   "execution_count": 1
  },
  {
   "metadata": {
    "ExecuteTime": {
     "end_time": "2024-07-11T23:23:26.660480Z",
     "start_time": "2024-07-11T23:23:26.640480Z"
    }
   },
   "cell_type": "code",
   "source": [
    "def preprocess_text(text):\n",
    "  \"\"\"\n",
    "  This function performs basic text cleaning on the input text.\n",
    "  You can customize this function to include steps like removing punctuation,\n",
    "  lowercase conversion, or stemming/lemmatization.\n",
    "  \"\"\"\n",
    "  text = text.lower()  # Convert to lowercase\n",
    "  text = re.sub(r'[^\\w\\s]', '', text)  # Remove punctuation\n",
    "  return text\n",
    "\n",
    "# Función para asignar categoría mejorada\n",
    "def assign_category(keyword):\n",
    "    keyword_processed = preprocess_text(keyword.lower())\n",
    "    for word in keywords_urinarios:\n",
    "        if word in keyword_processed:\n",
    "            return 'Problemas Urinarios'\n",
    "    for word in keywords_prostata:\n",
    "        if word in keyword_processed:\n",
    "            return 'Salud de la Prostata'\n",
    "    for word in keywords_erectil:\n",
    "        if word in keyword_processed:\n",
    "            return 'Vida Sexual'\n",
    "    return 'Otros'\n",
    "\n",
    "def assign_genre(keyword):\n",
    "  \"\"\"\n",
    "  Function that assigns gender (Hombre, Mujer, or Desconocido) to a keyword.\n",
    "\n",
    "  Arguments:\n",
    "      keyword (str): The keyword to analyze.\n",
    "\n",
    "  Returns:\n",
    "      str: \"Hombre\", \"Mujer\", or \"Desconocido\" based on the presence of gender indicative words.\n",
    "  \"\"\"\n",
    "  keyword_processed = keyword.lower()\n",
    "\n",
    "\n",
    "  if \"mujeres\" in keyword_processed or \"mujer\" in keyword_processed:\n",
    "    return \"Mujer\"\n",
    "  elif \"hombres\" in keyword_processed or \"hombre\" in keyword_processed:\n",
    "    return \"Hombre\"\n",
    "  else:\n",
    "    return \"Desconocido\"\n",
    "\n",
    "\n",
    "  \n",
    "def clasificar_intencion(consulta):\n",
    "  \"\"\"\n",
    "  Clasifica la intención de búsqueda en una consulta.\n",
    "\n",
    "  Args:\n",
    "    consulta: La consulta de búsqueda en forma de cadena de texto.\n",
    "\n",
    "  Returns:\n",
    "    La intención de búsqueda clasificada como \"Diagnostico\", \"Sintomas\", \"Dudas\", \"Busqueda de tratamiento\" u \"Otros\".\n",
    "  \"\"\"\n",
    "  consulta_minusculas = consulta.lower()\n",
    "  palabras_clave = {\n",
    "      \"sintomas\": [\"sangre\",\"incontinencia\",\"medicina\",\"sensacion\",\"orino\",\"hago\",\"siento\",\"sintomas\", \"dolor\", \"molestia\", \"arde\", \"ardor\", \"escape\", \"problemas\", \"falta\",\"perdida\", \"perdidas\", \"disfuncion erectil\",\"erecciones\", \"dificultad\", \"siento\", \"quema\", \"ganas\",  \"sintoma\", \"frecuente\", \"duele\", \"perder\", \"debil\", \"hematura\", \"escapes\", \"para el pito\",\"hematuria\", \"problema\"],\n",
    "      \"causas\": [\"alcohol\",\"causa\", \"masturbacion\", \"nervios\", \"estres\", \"generios\", \"causas\", \"ansiedad\",\"drogas\", \"coca\", \"cocaina\",\"aguantar\", \"aguantarse\", \"tengo\", \"poco\",\"mucha\", \"muchas\"],\n",
    "      \"tratamiento\": [\"curar\",\"informacion\", \"tratamiento\", \"remedio\", \"cura\", \"curable\", \"medicamentos\", \"precio\", \"bajar\", \"ondas\", \"remedios\", \"medico\", \"medicamento\", \"clinicas\", \"medical\", \"nuevo\", \"mejor\", \"mejora\", \"mejorar\", \"terapia\", \"urologo\", \"recomendaciones\", \"soluciones\",\"tratamientos\",\"especialistas\", \"cirugia\", \"cirugia\"],\n",
    "      \"miedo\": [\"diagnostico\", \"grave\", \"pastillas\", \"efectos\",\"hierba\", \"hierbas\", \"enfermedad\", \"medicacion\",\"natural\", \"ayuda\" ],\n",
    "      \"dudas\": [\"ejercicios\", \"ejercicio\", \"efectividad\", \"significa\",\"significado\", \"secundarios\", \"youtube\",\"tipo\",\"tipos\", \"debe\", \"solucion\", \"hay\", \"hiperplasia benigna\",\"hiperplasia\", \"displacia\", \"grados\", \"grado\", \"hipertrofia\", \"respiracion kegel\", \"kegel\", \"urologia\", \"porque\", \"psicologo\",\"valor\", \"protectores\", \"prostata\",\"laser\"]\n",
    "  }\n",
    "  for categoria, palabras in palabras_clave.items():\n",
    "    for palabra in palabras:\n",
    "      if re.search(r\"\\b\" + palabra + r\"\\b\", consulta_minusculas):\n",
    "        return categoria\n",
    "\n",
    "  return \"Otros\""
   ],
   "id": "cd379bb645285645",
   "outputs": [],
   "execution_count": 56
  },
  {
   "metadata": {
    "ExecuteTime": {
     "end_time": "2024-07-11T22:20:17.167135Z",
     "start_time": "2024-07-11T22:20:16.967922Z"
    }
   },
   "cell_type": "code",
   "source": "data = pd.read_csv(\"C:\\\\Repositorios\\\\Prueba Rubica\\\\Data_sets\\\\depurate_unificado.csv\")\n",
   "id": "bdcc91b7f60ba208",
   "outputs": [],
   "execution_count": 4
  },
  {
   "metadata": {},
   "cell_type": "markdown",
   "source": "Exploracion inicial de los datos",
   "id": "b3544751050be21a"
  },
  {
   "metadata": {
    "ExecuteTime": {
     "end_time": "2024-07-11T22:20:17.209585Z",
     "start_time": "2024-07-11T22:20:17.169131Z"
    }
   },
   "cell_type": "code",
   "source": [
    "print(f\"Shape: \\n\", data.shape, \"\\n\")\n",
    "print(\"Colunas: \\n\", data.columns)\n",
    "print(\"Muestra: \\n\", data.head(),\"\\n\" )\n",
    "print(\"Valores Null: \\n\", data.isnull().sum())\n"
   ],
   "id": "f84fbaf205e484bc",
   "outputs": [
    {
     "name": "stdout",
     "output_type": "stream",
     "text": [
      "Shape: \n",
      " (188122, 4) \n",
      "\n",
      "Colunas: \n",
      " Index(['Keyword', 'country', 'region', 'Search'], dtype='object')\n",
      "Muestra: \n",
      "                                          Keyword country     region  Search\n",
      "0     diagnostico hiperplasia prostatica benigna     ARG  Argentina      10\n",
      "1           clasificacion hiperplasia prostatica     ARG  Argentina      10\n",
      "2                             diagnostico de hbp     ARG  Argentina      10\n",
      "3          diagnostico de hiperplasia prostatica     ARG  Argentina      10\n",
      "4  diagnostico de hiperplasia prostatica benigna     ARG  Argentina      10 \n",
      "\n",
      "Valores Null: \n",
      " Keyword    0\n",
      "country    0\n",
      "region     0\n",
      "Search     0\n",
      "dtype: int64\n"
     ]
    }
   ],
   "execution_count": 5
  },
  {
   "metadata": {},
   "cell_type": "markdown",
   "source": [
    "##  Exploracion de Keyword\n",
    "\n",
    "Se decidio hacer un conteo de palabras mas repetidas en Keyword para determinar escoger con mayor precicion las categorias"
   ],
   "id": "d0b2d716fca74279"
  },
  {
   "metadata": {
    "ExecuteTime": {
     "end_time": "2024-07-11T22:20:22.318589Z",
     "start_time": "2024-07-11T22:20:17.212571Z"
    }
   },
   "cell_type": "code",
   "source": [
    "import nltk\n",
    "from nltk.stem import WordNetLemmatizer\n",
    "from nltk.corpus import stopwords\n",
    "\n",
    "nltk.download('wordnet')\n",
    "nltk.download('stopwords')\n",
    "\n",
    "lemmatizer = WordNetLemmatizer()\n",
    "stop_words = set(stopwords.words('spanish'))\n",
    "\n",
    "data['Keyword_processed'] = data['Keyword'].apply(lambda x: lemmatizer.lemmatize(x))\n",
    "\n",
    "data['Keyword_processed'] = data['Keyword'].apply(lambda x: ' '.join([w for w in x.split() if w not in stop_words]))\n",
    "\n",
    "\n"
   ],
   "id": "7f12e86144877ea1",
   "outputs": [
    {
     "name": "stderr",
     "output_type": "stream",
     "text": [
      "[nltk_data] Downloading package wordnet to\n",
      "[nltk_data]     C:\\Users\\moonw\\AppData\\Roaming\\nltk_data...\n",
      "[nltk_data]   Package wordnet is already up-to-date!\n",
      "[nltk_data] Downloading package stopwords to\n",
      "[nltk_data]     C:\\Users\\moonw\\AppData\\Roaming\\nltk_data...\n",
      "[nltk_data]   Package stopwords is already up-to-date!\n"
     ]
    }
   ],
   "execution_count": 6
  },
  {
   "metadata": {
    "ExecuteTime": {
     "end_time": "2024-07-11T22:20:23.100145Z",
     "start_time": "2024-07-11T22:20:22.319580Z"
    }
   },
   "cell_type": "code",
   "source": [
    "keywords = data[\"Keyword\"].str.lower().str.split().explode().tolist()\n",
    "counter = Counter(keywords)\n",
    "\n",
    "print(\"Conteo de palabras clave: \\n\")\n",
    "filtered_counts = {word: counter[word] for word in counter if len(word) > 4 and word not in [\"porque\", \"ganas\"]}\n",
    "filtered_counts = pd.DataFrame(filtered_counts.items(), columns=[\"Keyword\", \"Count\"])\n",
    "filtered_counts.sort_values(by=[\"Count\"], ascending=False, inplace=True)\n",
    "filtered_counts.head(20)\n"
   ],
   "id": "f63aa1febbe52bc9",
   "outputs": [
    {
     "name": "stdout",
     "output_type": "stream",
     "text": [
      "Conteo de palabras clave: \n",
      "\n"
     ]
    },
    {
     "data": {
      "text/plain": [
       "           Keyword  Count\n",
       "26          orinar  32154\n",
       "12        prostata  30357\n",
       "28          sangre  16718\n",
       "29        urinaria  14402\n",
       "33           orina  13438\n",
       "886        erectil  13009\n",
       "744     disfuncion  12932\n",
       "8      tratamiento  12725\n",
       "35       infeccion  11661\n",
       "27           dolor  11207\n",
       "13        sintomas  11163\n",
       "1      hiperplasia  10937\n",
       "21   incontinencia  10484\n",
       "785       ereccion   9684\n",
       "2       prostatica   9635\n",
       "19           duele   8645\n",
       "3          benigna   7359\n",
       "44          hombre   7059\n",
       "197         cancer   6670\n",
       "30         hombres   6668"
      ],
      "text/html": [
       "<div>\n",
       "<style scoped>\n",
       "    .dataframe tbody tr th:only-of-type {\n",
       "        vertical-align: middle;\n",
       "    }\n",
       "\n",
       "    .dataframe tbody tr th {\n",
       "        vertical-align: top;\n",
       "    }\n",
       "\n",
       "    .dataframe thead th {\n",
       "        text-align: right;\n",
       "    }\n",
       "</style>\n",
       "<table border=\"1\" class=\"dataframe\">\n",
       "  <thead>\n",
       "    <tr style=\"text-align: right;\">\n",
       "      <th></th>\n",
       "      <th>Keyword</th>\n",
       "      <th>Count</th>\n",
       "    </tr>\n",
       "  </thead>\n",
       "  <tbody>\n",
       "    <tr>\n",
       "      <th>26</th>\n",
       "      <td>orinar</td>\n",
       "      <td>32154</td>\n",
       "    </tr>\n",
       "    <tr>\n",
       "      <th>12</th>\n",
       "      <td>prostata</td>\n",
       "      <td>30357</td>\n",
       "    </tr>\n",
       "    <tr>\n",
       "      <th>28</th>\n",
       "      <td>sangre</td>\n",
       "      <td>16718</td>\n",
       "    </tr>\n",
       "    <tr>\n",
       "      <th>29</th>\n",
       "      <td>urinaria</td>\n",
       "      <td>14402</td>\n",
       "    </tr>\n",
       "    <tr>\n",
       "      <th>33</th>\n",
       "      <td>orina</td>\n",
       "      <td>13438</td>\n",
       "    </tr>\n",
       "    <tr>\n",
       "      <th>886</th>\n",
       "      <td>erectil</td>\n",
       "      <td>13009</td>\n",
       "    </tr>\n",
       "    <tr>\n",
       "      <th>744</th>\n",
       "      <td>disfuncion</td>\n",
       "      <td>12932</td>\n",
       "    </tr>\n",
       "    <tr>\n",
       "      <th>8</th>\n",
       "      <td>tratamiento</td>\n",
       "      <td>12725</td>\n",
       "    </tr>\n",
       "    <tr>\n",
       "      <th>35</th>\n",
       "      <td>infeccion</td>\n",
       "      <td>11661</td>\n",
       "    </tr>\n",
       "    <tr>\n",
       "      <th>27</th>\n",
       "      <td>dolor</td>\n",
       "      <td>11207</td>\n",
       "    </tr>\n",
       "    <tr>\n",
       "      <th>13</th>\n",
       "      <td>sintomas</td>\n",
       "      <td>11163</td>\n",
       "    </tr>\n",
       "    <tr>\n",
       "      <th>1</th>\n",
       "      <td>hiperplasia</td>\n",
       "      <td>10937</td>\n",
       "    </tr>\n",
       "    <tr>\n",
       "      <th>21</th>\n",
       "      <td>incontinencia</td>\n",
       "      <td>10484</td>\n",
       "    </tr>\n",
       "    <tr>\n",
       "      <th>785</th>\n",
       "      <td>ereccion</td>\n",
       "      <td>9684</td>\n",
       "    </tr>\n",
       "    <tr>\n",
       "      <th>2</th>\n",
       "      <td>prostatica</td>\n",
       "      <td>9635</td>\n",
       "    </tr>\n",
       "    <tr>\n",
       "      <th>19</th>\n",
       "      <td>duele</td>\n",
       "      <td>8645</td>\n",
       "    </tr>\n",
       "    <tr>\n",
       "      <th>3</th>\n",
       "      <td>benigna</td>\n",
       "      <td>7359</td>\n",
       "    </tr>\n",
       "    <tr>\n",
       "      <th>44</th>\n",
       "      <td>hombre</td>\n",
       "      <td>7059</td>\n",
       "    </tr>\n",
       "    <tr>\n",
       "      <th>197</th>\n",
       "      <td>cancer</td>\n",
       "      <td>6670</td>\n",
       "    </tr>\n",
       "    <tr>\n",
       "      <th>30</th>\n",
       "      <td>hombres</td>\n",
       "      <td>6668</td>\n",
       "    </tr>\n",
       "  </tbody>\n",
       "</table>\n",
       "</div>"
      ]
     },
     "execution_count": 7,
     "metadata": {},
     "output_type": "execute_result"
    }
   ],
   "execution_count": 7
  },
  {
   "metadata": {},
   "cell_type": "markdown",
   "source": "Se eliminan las filas que contienen datos iregulares en la columna Keyword",
   "id": "f7f98385f112820f"
  },
  {
   "metadata": {
    "ExecuteTime": {
     "end_time": "2024-07-11T22:20:23.220016Z",
     "start_time": "2024-07-11T22:20:23.102125Z"
    }
   },
   "cell_type": "code",
   "source": "data = data[~data['Keyword'].str.match(r'^\\d+$', na=False)]",
   "id": "69e41e9d9caff9fb",
   "outputs": [],
   "execution_count": 8
  },
  {
   "metadata": {
    "ExecuteTime": {
     "end_time": "2024-07-11T22:20:23.742891Z",
     "start_time": "2024-07-11T22:20:23.221005Z"
    }
   },
   "cell_type": "code",
   "source": [
    "top_20_words = filtered_counts.head(20)[\"Keyword\"].tolist() \n",
    "top_20_counts = filtered_counts.head(20)[\"Count\"].tolist()  \n",
    "\n",
    "plt.figure(figsize=(12, 8))\n",
    "plt.barh(top_20_words, top_20_counts, color='skyblue', align='center')\n",
    "plt.title(\"Top 20 palabras clave\")\n",
    "plt.xlabel(\"Conteo\")\n",
    "plt.ylabel(\"Palabra\")\n",
    "plt.grid(axis='x')\n",
    "plt.tight_layout()\n",
    "plt.show()"
   ],
   "id": "ba272487e5ddf8fd",
   "outputs": [
    {
     "data": {
      "text/plain": [
       "<Figure size 1200x800 with 1 Axes>"
      ],
      "image/png": "[encoded data removed]"
     },
     "metadata": {},
     "output_type": "display_data"
    }
   ],
   "execution_count": 9
  },
  {
   "metadata": {},
   "cell_type": "markdown",
   "source": [
    "Observando los términos más frecuentes en las busquedas como \"orinar\", \"próstata\", \"tratamiento\", \"síntomas\", etc., se logro identificar que  principales áreas de interés en tu dataset. Por ejemplo, parece que hay un enfoque significativo en temas relacionados con problemas urinarios, próstata, disfunción eréctil, entre otros.\n",
    "\n",
    "\n",
    "### **Definicion de categorias**\n",
    "\n",
    "Basado en los terminos mas frecuentes se determino definir  las categorias de la siguiente manera\n",
    "\n",
    "* **Problemas Urinarios:** ['orinar', 'urinaria', 'orina', 'infección', 'incontinencia', 'sangre', 'hematuria', 'cistitis', 'vejiga', 'uretra', 'urinarias', 'sangrado'].\n",
    "* **Salud de la Próstata:** ['próstata', 'prostática', 'hiperplasia', 'benigna', 'prostatitis', 'hipertrófica','agrandada', 'antígeno']\n",
    "* **Disfuncion erectil y vida sexual:** ['erectil', 'erección', 'disfunción', 'impotencia', 'relaciones', 'sexuales']\n",
    "* **Tratamiento y Síntomas:** ['tratamiento', 'dolor', 'síntomas', 'ardor', 'duele', 'medicamento', 'medicamentos', 'natural', 'naturales']"
   ],
   "id": "86c38b3d48b2d514"
  },
  {
   "metadata": {},
   "cell_type": "markdown",
   "source": [
    "## Estructura y categorizacion final de los datos\n",
    "\n",
    "\n",
    "Se utilizan las funciones creadas prebiamente para  la clasificacion de la **Intencion de la busqueda**  la clasificacion de las **Principales categorias** y **Genero**.\n"
   ],
   "id": "7a24833a5678ba6e"
  },
  {
   "metadata": {
    "ExecuteTime": {
     "end_time": "2024-07-11T22:20:24.416361Z",
     "start_time": "2024-07-11T22:20:23.746879Z"
    }
   },
   "cell_type": "code",
   "source": [
    "palabras_indicativas_hombre = data[\"Keyword_processed\"].str.contains(\"hombres|hombre\", case=False)\n",
    "palabras_indicativas_mujer = data[\"Keyword_processed\"].str.contains(\"mujeres|mujer\", case=False)\n",
    "\n",
    "data['genero'] = data['Keyword_processed'].apply(assign_genre)"
   ],
   "id": "2723d996ebfaf3c4",
   "outputs": [],
   "execution_count": 10
  },
  {
   "metadata": {
    "ExecuteTime": {
     "end_time": "2024-07-11T23:29:32.596152Z",
     "start_time": "2024-07-11T23:29:31.719795Z"
    }
   },
   "cell_type": "code",
   "source": [
    "\n",
    "keywords_urinarios = ['nicturia','orinar', 'urinaria', 'orina', 'infeccion', 'incontinencia', 'sangre', 'hematuria', 'cistitis', 'vejiga', 'uretra', 'urinarias', 'sangrado']\n",
    "keywords_prostata = ['hpb','hbp','prostata', 'prostatica', 'hiperplasia', 'benigna', 'prostatitis', 'hipertrofica', 'agrandada', 'antigeno']\n",
    "keywords_erectil = ['erecciones', 'se me para','kegel','erectil', 'ereccion', 'disfuncion', 'impotencia', 'relaciones', 'sexuales', 'sexual', 'sexualidad', 'sexo', 'reproductiva']\n",
    "keywords_tratamiento = ['tratamiento', 'dolor', 'sintomas', 'ardor', 'duele', 'medicamento', 'medicamentos', 'natural', 'naturales']\n",
    "\n",
    "data['category'] = data['Keyword_processed'].apply(assign_category)\n",
    "data['motivo'] = data['Keyword'].apply(clasificar_intencion)\n"
   ],
   "id": "8503c1d1d3341302",
   "outputs": [],
   "execution_count": 60
  },
  {
   "metadata": {
    "ExecuteTime": {
     "end_time": "2024-07-11T23:24:55.438521Z",
     "start_time": "2024-07-11T23:24:55.396886Z"
    }
   },
   "cell_type": "code",
   "source": [
    "conteo = data.groupby(by='category')['category'].value_counts()\n",
    "conteoMotivo = data.groupby(by='motivo')['motivo'].value_counts()\n",
    "pd.DataFrame(conteo)\n",
    "pd.DataFrame(conteoMotivo)"
   ],
   "id": "374061e276b80374",
   "outputs": [
    {
     "data": {
      "text/plain": [
       "             count\n",
       "motivo            \n",
       "Otros        26787\n",
       "causas        5038\n",
       "dudas        32781\n",
       "miedo         2528\n",
       "sintomas     98630\n",
       "tratamiento  22316"
      ],
      "text/html": [
       "<div>\n",
       "<style scoped>\n",
       "    .dataframe tbody tr th:only-of-type {\n",
       "        vertical-align: middle;\n",
       "    }\n",
       "\n",
       "    .dataframe tbody tr th {\n",
       "        vertical-align: top;\n",
       "    }\n",
       "\n",
       "    .dataframe thead th {\n",
       "        text-align: right;\n",
       "    }\n",
       "</style>\n",
       "<table border=\"1\" class=\"dataframe\">\n",
       "  <thead>\n",
       "    <tr style=\"text-align: right;\">\n",
       "      <th></th>\n",
       "      <th>count</th>\n",
       "    </tr>\n",
       "    <tr>\n",
       "      <th>motivo</th>\n",
       "      <th></th>\n",
       "    </tr>\n",
       "  </thead>\n",
       "  <tbody>\n",
       "    <tr>\n",
       "      <th>Otros</th>\n",
       "      <td>26787</td>\n",
       "    </tr>\n",
       "    <tr>\n",
       "      <th>causas</th>\n",
       "      <td>5038</td>\n",
       "    </tr>\n",
       "    <tr>\n",
       "      <th>dudas</th>\n",
       "      <td>32781</td>\n",
       "    </tr>\n",
       "    <tr>\n",
       "      <th>miedo</th>\n",
       "      <td>2528</td>\n",
       "    </tr>\n",
       "    <tr>\n",
       "      <th>sintomas</th>\n",
       "      <td>98630</td>\n",
       "    </tr>\n",
       "    <tr>\n",
       "      <th>tratamiento</th>\n",
       "      <td>22316</td>\n",
       "    </tr>\n",
       "  </tbody>\n",
       "</table>\n",
       "</div>"
      ]
     },
     "execution_count": 58,
     "metadata": {},
     "output_type": "execute_result"
    }
   ],
   "execution_count": 58
  },
  {
   "metadata": {
    "ExecuteTime": {
     "end_time": "2024-07-11T23:15:46.464986Z",
     "start_time": "2024-07-11T23:15:46.447657Z"
    }
   },
   "cell_type": "code",
   "source": "data.region.unique()",
   "id": "5e10cabb71bfac7",
   "outputs": [
    {
     "data": {
      "text/plain": [
       "array(['Argentina', 'Chile', 'Colombia', 'Costa Rica', 'Ecuador',\n",
       "       'Guatemala', 'México', 'Panamá', 'Peru'], dtype=object)"
      ]
     },
     "execution_count": 50,
     "metadata": {},
     "output_type": "execute_result"
    }
   ],
   "execution_count": 50
  },
  {
   "metadata": {
    "ExecuteTime": {
     "end_time": "2024-07-11T23:30:12.782837Z",
     "start_time": "2024-07-11T23:30:12.767928Z"
    }
   },
   "cell_type": "code",
   "source": "data",
   "id": "683b6ff7b6b8c996",
   "outputs": [
    {
     "data": {
      "text/plain": [
       "                                                Keyword country     region  \\\n",
       "0            diagnostico hiperplasia prostatica benigna     ARG  Argentina   \n",
       "1                  clasificacion hiperplasia prostatica     ARG  Argentina   \n",
       "2                                    diagnostico de hbp     ARG  Argentina   \n",
       "3                 diagnostico de hiperplasia prostatica     ARG  Argentina   \n",
       "4         diagnostico de hiperplasia prostatica benigna     ARG  Argentina   \n",
       "...                                                 ...     ...        ...   \n",
       "188117            tratamiento topico disfuncion erectil      PE       Peru   \n",
       "188118               tratamientos de disfuncion erectil      PE       Peru   \n",
       "188119                  tratamientos disfuncion erectil      PE       Peru   \n",
       "188120          tratamientos para problemas de ereccion      PE       Peru   \n",
       "188121  ultimos medicamentos para la disfuncion erectil      PE       Peru   \n",
       "\n",
       "        Search                           Keyword_processed       genero  \\\n",
       "0           10  diagnostico hiperplasia prostatica benigna  Desconocido   \n",
       "1           10        clasificacion hiperplasia prostatica  Desconocido   \n",
       "2           10                             diagnostico hbp  Desconocido   \n",
       "3           10          diagnostico hiperplasia prostatica  Desconocido   \n",
       "4           10  diagnostico hiperplasia prostatica benigna  Desconocido   \n",
       "...        ...                                         ...          ...   \n",
       "188117      10       tratamiento topico disfuncion erectil  Desconocido   \n",
       "188118      70             tratamientos disfuncion erectil  Desconocido   \n",
       "188119     720             tratamientos disfuncion erectil  Desconocido   \n",
       "188120      10             tratamientos problemas ereccion  Desconocido   \n",
       "188121      10     ultimos medicamentos disfuncion erectil  Desconocido   \n",
       "\n",
       "                    category    motivo  \n",
       "0       Salud de la Prostata     miedo  \n",
       "1       Salud de la Prostata     dudas  \n",
       "2       Salud de la Prostata     miedo  \n",
       "3       Salud de la Prostata     miedo  \n",
       "4       Salud de la Prostata     miedo  \n",
       "...                      ...       ...  \n",
       "188117           Vida Sexual  sintomas  \n",
       "188118           Vida Sexual  sintomas  \n",
       "188119           Vida Sexual  sintomas  \n",
       "188120           Vida Sexual  sintomas  \n",
       "188121           Vida Sexual  sintomas  \n",
       "\n",
       "[188080 rows x 8 columns]"
      ],
      "text/html": [
       "<div>\n",
       "<style scoped>\n",
       "    .dataframe tbody tr th:only-of-type {\n",
       "        vertical-align: middle;\n",
       "    }\n",
       "\n",
       "    .dataframe tbody tr th {\n",
       "        vertical-align: top;\n",
       "    }\n",
       "\n",
       "    .dataframe thead th {\n",
       "        text-align: right;\n",
       "    }\n",
       "</style>\n",
       "<table border=\"1\" class=\"dataframe\">\n",
       "  <thead>\n",
       "    <tr style=\"text-align: right;\">\n",
       "      <th></th>\n",
       "      <th>Keyword</th>\n",
       "      <th>country</th>\n",
       "      <th>region</th>\n",
       "      <th>Search</th>\n",
       "      <th>Keyword_processed</th>\n",
       "      <th>genero</th>\n",
       "      <th>category</th>\n",
       "      <th>motivo</th>\n",
       "    </tr>\n",
       "  </thead>\n",
       "  <tbody>\n",
       "    <tr>\n",
       "      <th>0</th>\n",
       "      <td>diagnostico hiperplasia prostatica benigna</td>\n",
       "      <td>ARG</td>\n",
       "      <td>Argentina</td>\n",
       "      <td>10</td>\n",
       "      <td>diagnostico hiperplasia prostatica benigna</td>\n",
       "      <td>Desconocido</td>\n",
       "      <td>Salud de la Prostata</td>\n",
       "      <td>miedo</td>\n",
       "    </tr>\n",
       "    <tr>\n",
       "      <th>1</th>\n",
       "      <td>clasificacion hiperplasia prostatica</td>\n",
       "      <td>ARG</td>\n",
       "      <td>Argentina</td>\n",
       "      <td>10</td>\n",
       "      <td>clasificacion hiperplasia prostatica</td>\n",
       "      <td>Desconocido</td>\n",
       "      <td>Salud de la Prostata</td>\n",
       "      <td>dudas</td>\n",
       "    </tr>\n",
       "    <tr>\n",
       "      <th>2</th>\n",
       "      <td>diagnostico de hbp</td>\n",
       "      <td>ARG</td>\n",
       "      <td>Argentina</td>\n",
       "      <td>10</td>\n",
       "      <td>diagnostico hbp</td>\n",
       "      <td>Desconocido</td>\n",
       "      <td>Salud de la Prostata</td>\n",
       "      <td>miedo</td>\n",
       "    </tr>\n",
       "    <tr>\n",
       "      <th>3</th>\n",
       "      <td>diagnostico de hiperplasia prostatica</td>\n",
       "      <td>ARG</td>\n",
       "      <td>Argentina</td>\n",
       "      <td>10</td>\n",
       "      <td>diagnostico hiperplasia prostatica</td>\n",
       "      <td>Desconocido</td>\n",
       "      <td>Salud de la Prostata</td>\n",
       "      <td>miedo</td>\n",
       "    </tr>\n",
       "    <tr>\n",
       "      <th>4</th>\n",
       "      <td>diagnostico de hiperplasia prostatica benigna</td>\n",
       "      <td>ARG</td>\n",
       "      <td>Argentina</td>\n",
       "      <td>10</td>\n",
       "      <td>diagnostico hiperplasia prostatica benigna</td>\n",
       "      <td>Desconocido</td>\n",
       "      <td>Salud de la Prostata</td>\n",
       "      <td>miedo</td>\n",
       "    </tr>\n",
       "    <tr>\n",
       "      <th>...</th>\n",
       "      <td>...</td>\n",
       "      <td>...</td>\n",
       "      <td>...</td>\n",
       "      <td>...</td>\n",
       "      <td>...</td>\n",
       "      <td>...</td>\n",
       "      <td>...</td>\n",
       "      <td>...</td>\n",
       "    </tr>\n",
       "    <tr>\n",
       "      <th>188117</th>\n",
       "      <td>tratamiento topico disfuncion erectil</td>\n",
       "      <td>PE</td>\n",
       "      <td>Peru</td>\n",
       "      <td>10</td>\n",
       "      <td>tratamiento topico disfuncion erectil</td>\n",
       "      <td>Desconocido</td>\n",
       "      <td>Vida Sexual</td>\n",
       "      <td>sintomas</td>\n",
       "    </tr>\n",
       "    <tr>\n",
       "      <th>188118</th>\n",
       "      <td>tratamientos de disfuncion erectil</td>\n",
       "      <td>PE</td>\n",
       "      <td>Peru</td>\n",
       "      <td>70</td>\n",
       "      <td>tratamientos disfuncion erectil</td>\n",
       "      <td>Desconocido</td>\n",
       "      <td>Vida Sexual</td>\n",
       "      <td>sintomas</td>\n",
       "    </tr>\n",
       "    <tr>\n",
       "      <th>188119</th>\n",
       "      <td>tratamientos disfuncion erectil</td>\n",
       "      <td>PE</td>\n",
       "      <td>Peru</td>\n",
       "      <td>720</td>\n",
       "      <td>tratamientos disfuncion erectil</td>\n",
       "      <td>Desconocido</td>\n",
       "      <td>Vida Sexual</td>\n",
       "      <td>sintomas</td>\n",
       "    </tr>\n",
       "    <tr>\n",
       "      <th>188120</th>\n",
       "      <td>tratamientos para problemas de ereccion</td>\n",
       "      <td>PE</td>\n",
       "      <td>Peru</td>\n",
       "      <td>10</td>\n",
       "      <td>tratamientos problemas ereccion</td>\n",
       "      <td>Desconocido</td>\n",
       "      <td>Vida Sexual</td>\n",
       "      <td>sintomas</td>\n",
       "    </tr>\n",
       "    <tr>\n",
       "      <th>188121</th>\n",
       "      <td>ultimos medicamentos para la disfuncion erectil</td>\n",
       "      <td>PE</td>\n",
       "      <td>Peru</td>\n",
       "      <td>10</td>\n",
       "      <td>ultimos medicamentos disfuncion erectil</td>\n",
       "      <td>Desconocido</td>\n",
       "      <td>Vida Sexual</td>\n",
       "      <td>sintomas</td>\n",
       "    </tr>\n",
       "  </tbody>\n",
       "</table>\n",
       "<p>188080 rows × 8 columns</p>\n",
       "</div>"
      ]
     },
     "execution_count": 63,
     "metadata": {},
     "output_type": "execute_result"
    }
   ],
   "execution_count": 63
  },
  {
   "metadata": {
    "ExecuteTime": {
     "end_time": "2024-07-11T23:46:41.273561Z",
     "start_time": "2024-07-11T23:46:41.178536Z"
    }
   },
   "cell_type": "code",
   "source": "data.info()",
   "id": "5e0a91b5a34e6ed0",
   "outputs": [
    {
     "name": "stdout",
     "output_type": "stream",
     "text": [
      "<class 'pandas.core.frame.DataFrame'>\n",
      "Index: 188080 entries, 0 to 188121\n",
      "Data columns (total 8 columns):\n",
      " #   Column             Non-Null Count   Dtype \n",
      "---  ------             --------------   ----- \n",
      " 0   Keyword            188080 non-null  object\n",
      " 1   country            188080 non-null  object\n",
      " 2   region             188080 non-null  object\n",
      " 3   Search             188080 non-null  int64 \n",
      " 4   Keyword_processed  188080 non-null  object\n",
      " 5   genero             188080 non-null  object\n",
      " 6   category           188080 non-null  object\n",
      " 7   motivo             188080 non-null  object\n",
      "dtypes: int64(1), object(7)\n",
      "memory usage: 12.9+ MB\n"
     ]
    }
   ],
   "execution_count": 66
  },
  {
   "metadata": {},
   "cell_type": "code",
   "outputs": [],
   "execution_count": 64,
   "source": "data.to_csv('C:\\\\Repositorios\\\\Prueba Rubica\\\\Data_sets\\\\data.csv')",
   "id": "7754aacef3275a2d"
  }
 ],
 "metadata": {
  "kernelspec": {
   "display_name": "Python 3",
   "language": "python",
   "name": "python3"
  },
  "language_info": {
   "codemirror_mode": {
    "name": "ipython",
    "version": 2
   },
   "file_extension": ".py",
   "mimetype": "text/x-python",
   "name": "python",
   "nbconvert_exporter": "python",
   "pygments_lexer": "ipython2",
   "version": "2.7.6"
  }
 },
 "nbformat": 4,
 "nbformat_minor": 5
}
